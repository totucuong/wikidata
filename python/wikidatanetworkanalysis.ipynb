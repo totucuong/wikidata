{
 "cells": [
  {
   "cell_type": "markdown",
   "metadata": {},
   "source": [
    "Within-talkpage-network is modeled as a directed graph."
   ]
  },
  {
   "cell_type": "code",
   "execution_count": 118,
   "metadata": {
    "collapsed": false
   },
   "outputs": [],
   "source": [
    "# define functions to work with graph\n",
    "import networkx as nx\n",
    "import numpy as np\n",
    "import matplotlib.pyplot as plt\n",
    "\n",
    "\n",
    "def extractTime(line, delim):\n",
    "    v = line.split(delim)\n",
    "    return v[2]\n",
    "    \n",
    "def createGraph(pathtographfile, delim):\n",
    "    f = open(pathtographfile, 'r')\n",
    "    edge_to_weight = {}\n",
    "    count = 0\n",
    "    firstDate = None\n",
    "    for line in f:\n",
    "        key = line.rstrip()\n",
    "        if count == 0:\n",
    "            firstDate = extractTime(key,delim)\n",
    "            count += 1\n",
    "        if key in edge_to_weight:\n",
    "            edge_to_weight[key] += 1\n",
    "        else:\n",
    "            edge_to_weight[key] = 1\n",
    "    G = nx.DiGraph(firstDate=firstDate)\n",
    "    for (e,w) in edge_to_weight.items():\n",
    "        v = e.split(delim)\n",
    "        G.add_edge(v[0], v[1], weight=w, time=v[2])\n",
    "    return G\n",
    "\n",
    "def computeAndPlotDegreeStats(G):\n",
    "    in_degrees = []\n",
    "    count = 0\n",
    "    for indeg in G.in_degree_iter():\n",
    "        in_degrees.append(indeg[1])\n",
    "        if (indeg[1] >= 1):\n",
    "            count += 1\n",
    "        \n",
    "\n",
    "    print(\"mean in-degree\", np.mean(in_degrees), \"sd = \", np.std(in_degrees))\n",
    "    print (\"max in-degree = \", np.max(in_degrees))\n",
    "    print(\"w. in-degree >= 1 = \", count)\n",
    "\n",
    "    out_degrees = []\n",
    "    count = 0\n",
    "    for outdeg in G.out_degree_iter():\n",
    "        out_degrees.append(outdeg[1])\n",
    "        if (outdeg[1] >= 1):\n",
    "            count += 1\n",
    "    print(\"mean out-degree\", np.mean(out_degrees), \" sd =\", np.std(out_degrees))\n",
    "    print (\"max out-degree = \", np.max(out_degrees))\n",
    "    print(\"w. out-degree >= 1 = \", count)\n",
    "   \n",
    "    import matplotlib.pyplot as plt\n",
    "    fig = plt.figure(figsize=(12,6))\n",
    "    idplot = fig.add_subplot(121)\n",
    "    idplot.hist(in_degrees, bins=50)\n",
    "    idplot.set_title(\"in-degree distribution\")\n",
    "    odplot = fig.add_subplot(122)\n",
    "    odplot.hist(out_degrees, bins=50)\n",
    "    odplot.set_title(\"out-degree distribution\")\n",
    "    plt.show()\n",
    "    \n",
    "    \n",
    "def boxPlotDegreeDist(G):\n",
    "    in_degrees = []\n",
    "    for indeg in G.in_degree_iter():\n",
    "        in_degrees.append(indeg[1])\n",
    "    print(\"Avg. indegree \", np.mean(in_degrees))\n",
    "    print(\"Std. indegree \", np.std(in_degrees))\n",
    "    out_degrees = []\n",
    "    for outdeg in G.out_degree_iter():\n",
    "        out_degrees.append(outdeg[1])\n",
    "    print(\"Avg. outdegree\", np.mean(out_degrees))\n",
    "    print(\"Std. outdegree\", np.std(out_degrees))\n",
    "    data = [in_degrees, out_degrees]\n",
    "    plt.figure()\n",
    "    plt.boxplot(data, labels=[\"in-degree\", \"out-degree\"])\n",
    "    plt.savefig(\"/Users/totucuong-standard/Projects/wikisocial-paper/images/boxplot_degree\")\n",
    "    plt.show()\n",
    "    \n",
    "#     fig2 = plt.figure(figsize=(12,6))\n",
    "#     indegbox = fig2.add_subplot(121)\n",
    "#     indegbox.set_title(\"in-degree\")\n",
    "#     indegbox.boxplot(in_degrees)\n",
    "#     outdegbox = fig2.add_subplot(122)\n",
    "#     outdegbox.set_title(\"out-degree\")\n",
    "#     outdegbox.boxplot(out_degrees)\n",
    "#     plt.show()\n",
    "\n",
    "\n",
    "def drawGraph(G, name):\n",
    "    nx.draw(G, node_size=10)\n",
    "    plt.savefig(name)\n",
    "    plt.show()\n",
    "    \n",
    "def analyzeComponents(G):\n",
    "    UG = G.to_undirected()\n",
    "    largest_cc = max(nx.connected_components(UG), key=len)\n",
    "    print(\"number of components:\", nx.number_connected_components(UG))\n",
    "    print(\"number of nodes in large connected component\", len(largest_cc))\n",
    "    print(\"size of giant component compared to original graph\", len(largest_cc)/G.number_of_nodes()*100)\n",
    "    print(\"size of giant component\", len(largest_cc))\n",
    "    \n",
    "\n",
    "# compute top-k indegree of a network\n",
    "# direction={'in', 'out'}\n",
    "# k = number of nodes\n",
    "# G = a graph\n",
    "def top_degree(direction,k,G):\n",
    "    degree_dict = None\n",
    "    if (direction == 'in'):\n",
    "        print('in degree computation...')\n",
    "        degree_dict = wtpNetwork.in_degree()\n",
    "    elif (direction == 'out'):\n",
    "        print('out degree computation....')\n",
    "        degree_dict = wtpNetwork.out_degree()\n",
    "    else:\n",
    "        raise ValueError(\"direction must be in or out\")\n",
    "    degree_tuples = [(k,v) for k, v in degree_dict.items()]\n",
    "    degree_tuples_sorted = sorted(degree_tuples, key = lambda x: x[1], reverse=True)\n",
    "    result = []\n",
    "    for i in range(10):\n",
    "        result.append(degree_tuples_sorted[i])\n",
    "    return result\n",
    "\n",
    "def degree_assortativity_analysis(G, name):\n",
    "    # r(in, out)\n",
    "    result = {}\n",
    "    print(\"Degree assortativity of graph \", name)\n",
    "    r_in_out = nx.degree_assortativity_coefficient(G, x='in', y='out')\n",
    "    print('r(in,out) = ', r_in_out)\n",
    "    result['in_out'] = r_in_out\n",
    "\n",
    "    # r(in, in)\n",
    "    r_in_in = nx.degree_assortativity_coefficient(G, x='in', y='in')\n",
    "    print('r(in,in) = ', r_in_in)\n",
    "    result['in_in'] = r_in_in\n",
    "\n",
    "    # r(out, in)\n",
    "    r_out_in = nx.degree_assortativity_coefficient(G, x='out', y='in')\n",
    "    print('r(out,in) = ', r_out_in)\n",
    "    result['out_in'] = r_out_in\n",
    "\n",
    "    # r(out, out)\n",
    "    r_out_out = nx.degree_assortativity_coefficient(G, x='out', y='out')\n",
    "    print('r(out,out) = ', r_out_out)\n",
    "    result['out_out'] = r_out_out\n",
    "    return result\n",
    "    \n",
    "    \n",
    "def generate_random_graph(G):\n",
    "    in_degs = [node[1] for node in G.in_degree_iter()]\n",
    "    out_degs = [node[1] for node in G.out_degree_iter()]\n",
    "    random_graphs = []\n",
    "    for i in range(100):\n",
    "        random_graphs.append(nx.directed_configuration_model(in_degs,out_degs))\n",
    "    return random_graphs\n",
    "\n",
    "\n",
    "def compute_assortativity_mean_std(graphs, x='in', y='out'):\n",
    "    result = {}\n",
    "    assortativities = []\n",
    "    for i in range(100):\n",
    "        assortativities.append(nx.degree_assortativity_coefficient(graphs[i], x, y))\n",
    "    result['mean'] = np.mean(assortativities)\n",
    "    result['std'] = np.std(assortativities)\n",
    "    return result\n",
    "\n",
    "def zscore(r, mean, std):\n",
    "    return (r-mean)/std\n",
    "    \n",
    "\n",
    "def compute_z_score_for_assortativity(G, name):\n",
    "    \"\"\"\n",
    "    G: graph that we want to study assortitativity\n",
    "    name: name of graph that we want to study\n",
    "    \"\"\"\n",
    "    # compute degree assortativity\n",
    "    assort = degree_assortativity_analysis(G,name)\n",
    "    \n",
    "    # compute z-score to see the confidence |Z| > 2 is consisdered to be believable\n",
    "    random_graphs = generate_random_graph(G)\n",
    "    \n",
    "    # z(in,out)\n",
    "    stats = compute_assortativity_mean_std(random_graphs, x='in', y='out')\n",
    "    print('z(in,out) = ', zscore(assort['in_out'], stats['mean'], stats['std']))\n",
    "    print('std_in_out = ', stats['std'])\n",
    "    print('mean_in_out = ', stats['mean'])\n",
    "\n",
    "    # z(in, in)\n",
    "    stats = compute_assortativity_mean_std(random_graphs, x='in', y='in')\n",
    "    print('z(in,in) = ', zscore(assort['in_in'], stats['mean'], stats['std']))\n",
    "    print('std_in_in = ', stats['std'])\n",
    "    print('mean_in_in = ', stats['mean'])\n",
    "\n",
    "    # z(out, in)\n",
    "    stats = compute_assortativity_mean_std(random_graphs, x='out', y='in')\n",
    "    print('z(out,in) = ', zscore(assort['out_in'], stats['mean'], stats['std']))\n",
    "    print('std_out_in = ', stats['std'])\n",
    "    print('mean_out_in = ', stats['mean'])\n",
    "\n",
    "\n",
    "    # z(out, out)\n",
    "    stats = compute_assortativity_mean_std(random_graphs, x='out', y='out')\n",
    "    print('z(out, out) = ', zscore(assort['out_out'], stats['mean'], stats['std']))\n",
    "    print('std_out_out = ', stats['std'])\n",
    "    print('mean_out_out = ', stats['mean'])\n",
    "\n",
    "                  "
   ]
  },
  {
   "cell_type": "markdown",
   "metadata": {},
   "source": [
    "## Within-Network-Page Network Analysis\n"
   ]
  },
  {
   "cell_type": "code",
   "execution_count": 119,
   "metadata": {
    "collapsed": false
   },
   "outputs": [
    {
     "name": "stdout",
     "output_type": "stream",
     "text": [
      "number of nodes:  2314\n",
      "number of edges:  9152\n"
     ]
    }
   ],
   "source": [
    "wtpNetwork = createGraph(\"../data/wtp-networks/wtpnetwork_timestamp.csv\", \";\")\n",
    "print(\"number of nodes: \",str(wtpNetwork.number_of_nodes()))\n",
    "print(\"number of edges: \",str(wtpNetwork.number_of_edges()))\n"
   ]
  },
  {
   "cell_type": "code",
   "execution_count": 120,
   "metadata": {
    "collapsed": false
   },
   "outputs": [
    {
     "name": "stdout",
     "output_type": "stream",
     "text": [
      "mean in-degree 3.95505617978 sd =  9.87075786245\n",
      "max in-degree =  174\n",
      "w. in-degree >= 1 =  1847\n",
      "mean out-degree 3.95505617978  sd = 9.83720834583\n",
      "max out-degree =  183\n",
      "w. out-degree >= 1 =  2015\n"
     ]
    },
    {
     "data": {
      "image/png": "[encoded data removed]",
      "text/plain": [
       "<matplotlib.figure.Figure at 0x1074e4208>"
      ]
     },
     "metadata": {},
     "output_type": "display_data"
    }
   ],
   "source": [
    "computeAndPlotDegreeStats(wtpNetwork)"
   ]
  },
  {
   "cell_type": "code",
   "execution_count": 11,
   "metadata": {
    "collapsed": false
   },
   "outputs": [
    {
     "name": "stdout",
     "output_type": "stream",
     "text": [
      "Avg. indegree  3.95505617978\n",
      "Std. indegree  9.87075786245\n",
      "Avg. outdegree 3.95505617978\n",
      "Std. outdegree 9.83720834583\n"
     ]
    },
    {
     "data": {
      "image/png": "[encoded data removed]",
      "text/plain": [
       "<matplotlib.figure.Figure at 0x107c1af98>"
      ]
     },
     "metadata": {},
     "output_type": "display_data"
    }
   ],
   "source": [
    "boxPlotDegreeDist(wtpNetwork)"
   ]
  },
  {
   "cell_type": "markdown",
   "metadata": {},
   "source": [
    "Here we look closer at the outlier of in-degree and out-degree people."
   ]
  },
  {
   "cell_type": "code",
   "execution_count": 12,
   "metadata": {
    "collapsed": false
   },
   "outputs": [
    {
     "name": "stdout",
     "output_type": "stream",
     "text": [
      "The person got asked alot  {'SamoaBot'}\n",
      "max in degree 174\n",
      "The person asked alot  {'User:Rotsaert8000'}\n"
     ]
    }
   ],
   "source": [
    "# in degree dictionary: node -> in-degree\n",
    "node_to_indegree = dict(list(wtpNetwork.in_degree_iter()))\n",
    "max_in_degree = np.max(list(node_to_indegree.values()))\n",
    "\n",
    "# inverted index: in-degree -> node\n",
    "indegree_to_node = [set() for x in range(0, max_in_degree+1)]\n",
    "for k, v in node_to_indegree.items():\n",
    "    indegree_to_node[v].add(k)\n",
    "    \n",
    "print(\"The person got asked alot \", indegree_to_node[max_in_degree])\n",
    "print (\"max in degree\", max_in_degree)\n",
    "# out degree dictionary: node -> out-degree\n",
    "node_to_outdegree = dict(list(wtpNetwork.out_degree_iter()))\n",
    "max_out_degree = np.max(list(node_to_outdegree.values()))\n",
    "# inverted index: out-degree -> node\n",
    "outdegree_to_node = [set() for x in range(0, max_out_degree+1)]\n",
    "for k, v in node_to_outdegree.items():\n",
    "    outdegree_to_node[v].add(k)\n",
    "    \n",
    "print(\"The person asked alot \", outdegree_to_node[max_out_degree])\n",
    "# print (\"max out degree\", max_out_degree)"
   ]
  },
  {
   "cell_type": "markdown",
   "metadata": {},
   "source": [
    "## Top influnencers"
   ]
  },
  {
   "cell_type": "code",
   "execution_count": null,
   "metadata": {
    "collapsed": false,
    "scrolled": true
   },
   "outputs": [],
   "source": [
    "# ranking by in-degree\n",
    "top_10_indeg = top_degree(direction='in', G=wtpNetwork, k=10)\n",
    "print(\"top 10 in-degree\")\n",
    "print(top_10_indeg)\n",
    "\n",
    "# ranking by out-degree\n",
    "top_10_outdeg = top_degree(direction='out', G=wtpNetwork, k=10)\n",
    "print(\"top 10 out-degree\")\n",
    "print(top_10_outdeg)\n",
    "\n"
   ]
  },
  {
   "cell_type": "markdown",
   "metadata": {},
   "source": [
    "## Graph Visualization"
   ]
  },
  {
   "cell_type": "code",
   "execution_count": null,
   "metadata": {
    "collapsed": false
   },
   "outputs": [],
   "source": [
    "# \"\"\"\n",
    "# Draw a graph with matplotlib.\n",
    "# You must have matplotlib for this to work.\n",
    "# \"\"\"\n",
    "# try:\n",
    "#     import matplotlib.pyplot as plt\n",
    "# except:\n",
    "#     raise\n",
    "\n",
    "# import networkx as nx\n",
    "\n",
    "# # G=nx.path_graph(8)\n",
    "\n",
    "# nx.draw(GG, node_size=10)\n",
    "# plt.savefig(\"wtp-network.png\") # save as png\n",
    "# plt.show() # display\n",
    "print(\"WTP-Network\")\n",
    "drawGraph(wtpNetwork, \"wtp-network.png\")"
   ]
  },
  {
   "cell_type": "markdown",
   "metadata": {},
   "source": [
    "## Connected components\n",
    "The statistics in this section is computed by treating G as undirected graph (UG)"
   ]
  },
  {
   "cell_type": "code",
   "execution_count": null,
   "metadata": {
    "collapsed": false
   },
   "outputs": [],
   "source": [
    "UG = G.to_undirected()\n",
    "# nC = nx.number_connected_components(UG)\n",
    "# C = nx.connected_components(UG)\n",
    "largest_cc = max(nx.connected_components(UG), key=len)\n",
    "print(\"number of nodes in large connected component\", len(largest_cc))\n",
    "print(\"size of giant component compared to original graph\", len(largest_cc)/G.number_of_nodes()*100)\n",
    "print(\"size of giant component\", len(largest_cc))"
   ]
  },
  {
   "cell_type": "markdown",
   "metadata": {
    "collapsed": true
   },
   "source": [
    "## Distance measures\n"
   ]
  },
  {
   "cell_type": "code",
   "execution_count": null,
   "metadata": {
    "collapsed": false
   },
   "outputs": [],
   "source": [
    "# giant component\n",
    "GG = G.subgraph(largest_cc)\n",
    "print(\"GG is \",nx.is_directed(GG))\n",
    "print(\"average distance in giant component: \", nx.average_shortest_path_length(GG))\n",
    "print(len(GG))"
   ]
  },
  {
   "cell_type": "code",
   "execution_count": null,
   "metadata": {
    "collapsed": false
   },
   "outputs": [],
   "source": [
    "print(\"number of nodes \", len(paths.keys()))\n",
    "print(len(paths['Acroterion']))\n",
    "# for target in paths['Acroterion']:\n",
    "#     print(\"path length from Acroterion\", len(paths['Acroterion'][target]))"
   ]
  },
  {
   "cell_type": "code",
   "execution_count": 94,
   "metadata": {
    "collapsed": false
   },
   "outputs": [
    {
     "name": "stdout",
     "output_type": "stream",
     "text": [
      "(['def createGraph(pathtographfile, delim):\\n', \"    f = open(pathtographfile, 'r')\\n\", '    edge_to_weight = {}\\n', '    for line in f:\\n', '        key = line.rstrip()\\n', '        if key in edge_to_weight:\\n', '            edge_to_weight[key] += 1\\n', '        else:\\n', '            edge_to_weight[key] = 1\\n', '    G = nx.DiGraph()\\n', '    for (e,w) in edge_to_weight.items():\\n', '        v = e.split(delim)\\n', '        G.add_edge(v[0], v[1], weight=w)\\n', '    return G\\n'], 8)\n"
     ]
    }
   ],
   "source": [
    "def rescue_code(function):\n",
    "    import inspect\n",
    "    get_ipython().set_next_input(\"\".join(inspect.getsourcelines(function)[0]))\n",
    "    \n"
   ]
  },
  {
   "cell_type": "markdown",
   "metadata": {},
   "source": [
    "## Dynamic Analysis of WTP-network in Usertalk Namespace\n",
    "\n",
    "First we need to generate some timeSeries data. The first two series are number of nodes and number of edges for each week."
   ]
  },
  {
   "cell_type": "code",
   "execution_count": 124,
   "metadata": {
    "collapsed": false
   },
   "outputs": [],
   "source": [
    "def createWeeklyGraph(prefix, weekNumber):\n",
    "    filePath = prefix + str(weekNumber)\n",
    "    return createGraph(delim=\";\",pathtographfile=filePath)\n",
    "\n",
    "def buildFileHeader(columns):\n",
    "    header =\"\"\n",
    "    for i in range(0,len(columns) - 1):\n",
    "        header += str(columns[i]) + \";\"\n",
    "    header += str(columns[len(columns) -1])\n",
    "    return header\n",
    "\n",
    "def buildFileLine(columns):\n",
    "    return buildFileHeader(columns)\n",
    "\n",
    "def buildTimeSeries(graphs):\n",
    "    # building timeseries data \n",
    "    timeSeries = {}\n",
    "    # timeSeries['#nodes'] = 2\n",
    "    # timeSeries['#edges'] = 3\n",
    "    # print(timeSeries['#nodes'])\n",
    "    numberOfNodes = []\n",
    "    numberOfEdges = []\n",
    "    dates = []\n",
    "    for i in range(0, 220):\n",
    "        numberOfNodes.append(graphs[i].number_of_nodes())\n",
    "        numberOfEdges.append(graphs[i].number_of_edges())\n",
    "        dates.append(graphs[i].graph['firstDate'])\n",
    "        \n",
    "    timeSeries['nodes'] = numberOfNodes\n",
    "    timeSeries['edges'] = numberOfEdges\n",
    "    timeSeries['date'] = dates\n",
    "    return timeSeries\n",
    "\n",
    "def saveTimeSeries(filePath, timeSeries):\n",
    "    with open(filePath, 'w') as f:\n",
    "        f.write(buildFileHeader(list(timeSeries.keys()))+\"\\n\")\n",
    "        for i in range(length(timeSeries)):\n",
    "            values = []\n",
    "            for col in timeSeries.keys():\n",
    "                values.append(timeSeries[col][i])\n",
    "            f.write(buildFileLine(values) + \"\\n\")\n",
    "\n",
    "def buildWeeklyGraphs(prefix, weeks):\n",
    "    graphs = []\n",
    "    for i in range(weeks):\n",
    "        graphs.append(createWeeklyGraph(prefix, i))\n",
    "    return graphs\n",
    "\n",
    "# read in weekly graphs\n",
    "graphs = buildWeeklyGraphs(\"../data/wtp-networks/wtpnetwork_timestamp.csv_\",220)\n",
    "timeSeries = buildTimeSeries(graphs)\n",
    "saveTimeSeries(\"../data/wtp-networks/wtp-timeSeries\",timeSeries)\n",
    "\n",
    "        \n",
    "    \n"
   ]
  },
  {
   "cell_type": "code",
   "execution_count": null,
   "metadata": {
    "collapsed": true
   },
   "outputs": [],
   "source": []
  },
  {
   "cell_type": "markdown",
   "metadata": {},
   "source": [
    "Now we want to do some time analysis using panda"
   ]
  },
  {
   "cell_type": "code",
   "execution_count": 152,
   "metadata": {
    "collapsed": false
   },
   "outputs": [
    {
     "data": {
      "text/html": [
       "<div>\n",
       "<table border=\"1\" class=\"dataframe\">\n",
       "  <thead>\n",
       "    <tr style=\"text-align: right;\">\n",
       "      <th></th>\n",
       "      <th>date</th>\n",
       "      <th>edges</th>\n",
       "      <th>nodes</th>\n",
       "    </tr>\n",
       "  </thead>\n",
       "  <tbody>\n",
       "    <tr>\n",
       "      <th>2012-10-30</th>\n",
       "      <td>2012-10-30</td>\n",
       "      <td>133</td>\n",
       "      <td>71</td>\n",
       "    </tr>\n",
       "    <tr>\n",
       "      <th>2012-11-07</th>\n",
       "      <td>2012-11-07</td>\n",
       "      <td>176</td>\n",
       "      <td>79</td>\n",
       "    </tr>\n",
       "    <tr>\n",
       "      <th>2012-11-14</th>\n",
       "      <td>2012-11-14</td>\n",
       "      <td>112</td>\n",
       "      <td>67</td>\n",
       "    </tr>\n",
       "    <tr>\n",
       "      <th>2012-11-21</th>\n",
       "      <td>2012-11-21</td>\n",
       "      <td>83</td>\n",
       "      <td>49</td>\n",
       "    </tr>\n",
       "    <tr>\n",
       "      <th>2012-11-28</th>\n",
       "      <td>2012-11-28</td>\n",
       "      <td>53</td>\n",
       "      <td>37</td>\n",
       "    </tr>\n",
       "    <tr>\n",
       "      <th>2012-12-05</th>\n",
       "      <td>2012-12-05</td>\n",
       "      <td>53</td>\n",
       "      <td>32</td>\n",
       "    </tr>\n",
       "    <tr>\n",
       "      <th>2012-12-12</th>\n",
       "      <td>2012-12-12</td>\n",
       "      <td>21</td>\n",
       "      <td>19</td>\n",
       "    </tr>\n",
       "    <tr>\n",
       "      <th>2012-12-19</th>\n",
       "      <td>2012-12-19</td>\n",
       "      <td>34</td>\n",
       "      <td>23</td>\n",
       "    </tr>\n",
       "    <tr>\n",
       "      <th>2012-12-26</th>\n",
       "      <td>2012-12-26</td>\n",
       "      <td>38</td>\n",
       "      <td>28</td>\n",
       "    </tr>\n",
       "    <tr>\n",
       "      <th>2013-01-02</th>\n",
       "      <td>2013-01-02</td>\n",
       "      <td>41</td>\n",
       "      <td>26</td>\n",
       "    </tr>\n",
       "    <tr>\n",
       "      <th>2013-01-09</th>\n",
       "      <td>2013-01-09</td>\n",
       "      <td>24</td>\n",
       "      <td>20</td>\n",
       "    </tr>\n",
       "    <tr>\n",
       "      <th>2013-01-17</th>\n",
       "      <td>2013-01-17</td>\n",
       "      <td>32</td>\n",
       "      <td>27</td>\n",
       "    </tr>\n",
       "    <tr>\n",
       "      <th>2013-01-23</th>\n",
       "      <td>2013-01-23</td>\n",
       "      <td>60</td>\n",
       "      <td>45</td>\n",
       "    </tr>\n",
       "    <tr>\n",
       "      <th>2013-01-30</th>\n",
       "      <td>2013-01-30</td>\n",
       "      <td>113</td>\n",
       "      <td>70</td>\n",
       "    </tr>\n",
       "    <tr>\n",
       "      <th>2013-02-06</th>\n",
       "      <td>2013-02-06</td>\n",
       "      <td>70</td>\n",
       "      <td>50</td>\n",
       "    </tr>\n",
       "    <tr>\n",
       "      <th>2013-02-13</th>\n",
       "      <td>2013-02-13</td>\n",
       "      <td>86</td>\n",
       "      <td>55</td>\n",
       "    </tr>\n",
       "    <tr>\n",
       "      <th>2013-02-20</th>\n",
       "      <td>2013-02-20</td>\n",
       "      <td>141</td>\n",
       "      <td>92</td>\n",
       "    </tr>\n",
       "    <tr>\n",
       "      <th>2013-02-27</th>\n",
       "      <td>2013-02-27</td>\n",
       "      <td>107</td>\n",
       "      <td>73</td>\n",
       "    </tr>\n",
       "    <tr>\n",
       "      <th>2013-03-06</th>\n",
       "      <td>2013-03-06</td>\n",
       "      <td>184</td>\n",
       "      <td>112</td>\n",
       "    </tr>\n",
       "    <tr>\n",
       "      <th>2013-03-13</th>\n",
       "      <td>2013-03-13</td>\n",
       "      <td>146</td>\n",
       "      <td>90</td>\n",
       "    </tr>\n",
       "    <tr>\n",
       "      <th>2013-03-20</th>\n",
       "      <td>2013-03-20</td>\n",
       "      <td>172</td>\n",
       "      <td>102</td>\n",
       "    </tr>\n",
       "    <tr>\n",
       "      <th>2013-03-27</th>\n",
       "      <td>2013-03-27</td>\n",
       "      <td>163</td>\n",
       "      <td>99</td>\n",
       "    </tr>\n",
       "    <tr>\n",
       "      <th>2013-04-03</th>\n",
       "      <td>2013-04-03</td>\n",
       "      <td>145</td>\n",
       "      <td>81</td>\n",
       "    </tr>\n",
       "    <tr>\n",
       "      <th>2013-04-10</th>\n",
       "      <td>2013-04-10</td>\n",
       "      <td>194</td>\n",
       "      <td>110</td>\n",
       "    </tr>\n",
       "    <tr>\n",
       "      <th>2013-04-17</th>\n",
       "      <td>2013-04-17</td>\n",
       "      <td>179</td>\n",
       "      <td>107</td>\n",
       "    </tr>\n",
       "    <tr>\n",
       "      <th>2013-04-24</th>\n",
       "      <td>2013-04-24</td>\n",
       "      <td>185</td>\n",
       "      <td>105</td>\n",
       "    </tr>\n",
       "    <tr>\n",
       "      <th>2013-05-01</th>\n",
       "      <td>2013-05-01</td>\n",
       "      <td>181</td>\n",
       "      <td>104</td>\n",
       "    </tr>\n",
       "    <tr>\n",
       "      <th>2013-05-08</th>\n",
       "      <td>2013-05-08</td>\n",
       "      <td>173</td>\n",
       "      <td>112</td>\n",
       "    </tr>\n",
       "    <tr>\n",
       "      <th>2013-05-15</th>\n",
       "      <td>2013-05-15</td>\n",
       "      <td>133</td>\n",
       "      <td>81</td>\n",
       "    </tr>\n",
       "    <tr>\n",
       "      <th>2013-05-22</th>\n",
       "      <td>2013-05-22</td>\n",
       "      <td>144</td>\n",
       "      <td>83</td>\n",
       "    </tr>\n",
       "    <tr>\n",
       "      <th>...</th>\n",
       "      <td>...</td>\n",
       "      <td>...</td>\n",
       "      <td>...</td>\n",
       "    </tr>\n",
       "    <tr>\n",
       "      <th>2016-06-22</th>\n",
       "      <td>2016-06-22</td>\n",
       "      <td>49</td>\n",
       "      <td>49</td>\n",
       "    </tr>\n",
       "    <tr>\n",
       "      <th>2016-06-29</th>\n",
       "      <td>2016-06-29</td>\n",
       "      <td>61</td>\n",
       "      <td>52</td>\n",
       "    </tr>\n",
       "    <tr>\n",
       "      <th>2016-07-06</th>\n",
       "      <td>2016-07-06</td>\n",
       "      <td>48</td>\n",
       "      <td>43</td>\n",
       "    </tr>\n",
       "    <tr>\n",
       "      <th>2016-07-13</th>\n",
       "      <td>2016-07-13</td>\n",
       "      <td>35</td>\n",
       "      <td>27</td>\n",
       "    </tr>\n",
       "    <tr>\n",
       "      <th>2016-07-20</th>\n",
       "      <td>2016-07-20</td>\n",
       "      <td>46</td>\n",
       "      <td>41</td>\n",
       "    </tr>\n",
       "    <tr>\n",
       "      <th>2016-07-27</th>\n",
       "      <td>2016-07-27</td>\n",
       "      <td>22</td>\n",
       "      <td>24</td>\n",
       "    </tr>\n",
       "    <tr>\n",
       "      <th>2016-08-03</th>\n",
       "      <td>2016-08-03</td>\n",
       "      <td>49</td>\n",
       "      <td>43</td>\n",
       "    </tr>\n",
       "    <tr>\n",
       "      <th>2016-08-10</th>\n",
       "      <td>2016-08-10</td>\n",
       "      <td>51</td>\n",
       "      <td>40</td>\n",
       "    </tr>\n",
       "    <tr>\n",
       "      <th>2016-08-17</th>\n",
       "      <td>2016-08-17</td>\n",
       "      <td>40</td>\n",
       "      <td>32</td>\n",
       "    </tr>\n",
       "    <tr>\n",
       "      <th>2016-08-24</th>\n",
       "      <td>2016-08-24</td>\n",
       "      <td>49</td>\n",
       "      <td>37</td>\n",
       "    </tr>\n",
       "    <tr>\n",
       "      <th>2016-08-31</th>\n",
       "      <td>2016-08-31</td>\n",
       "      <td>50</td>\n",
       "      <td>40</td>\n",
       "    </tr>\n",
       "    <tr>\n",
       "      <th>2016-09-07</th>\n",
       "      <td>2016-09-07</td>\n",
       "      <td>34</td>\n",
       "      <td>30</td>\n",
       "    </tr>\n",
       "    <tr>\n",
       "      <th>2016-09-14</th>\n",
       "      <td>2016-09-14</td>\n",
       "      <td>42</td>\n",
       "      <td>37</td>\n",
       "    </tr>\n",
       "    <tr>\n",
       "      <th>2016-09-21</th>\n",
       "      <td>2016-09-21</td>\n",
       "      <td>35</td>\n",
       "      <td>31</td>\n",
       "    </tr>\n",
       "    <tr>\n",
       "      <th>2016-09-28</th>\n",
       "      <td>2016-09-28</td>\n",
       "      <td>35</td>\n",
       "      <td>30</td>\n",
       "    </tr>\n",
       "    <tr>\n",
       "      <th>2016-10-05</th>\n",
       "      <td>2016-10-05</td>\n",
       "      <td>51</td>\n",
       "      <td>42</td>\n",
       "    </tr>\n",
       "    <tr>\n",
       "      <th>2016-10-12</th>\n",
       "      <td>2016-10-12</td>\n",
       "      <td>39</td>\n",
       "      <td>24</td>\n",
       "    </tr>\n",
       "    <tr>\n",
       "      <th>2016-10-19</th>\n",
       "      <td>2016-10-19</td>\n",
       "      <td>50</td>\n",
       "      <td>43</td>\n",
       "    </tr>\n",
       "    <tr>\n",
       "      <th>2016-10-26</th>\n",
       "      <td>2016-10-26</td>\n",
       "      <td>31</td>\n",
       "      <td>29</td>\n",
       "    </tr>\n",
       "    <tr>\n",
       "      <th>2016-11-02</th>\n",
       "      <td>2016-11-02</td>\n",
       "      <td>50</td>\n",
       "      <td>45</td>\n",
       "    </tr>\n",
       "    <tr>\n",
       "      <th>2016-11-09</th>\n",
       "      <td>2016-11-09</td>\n",
       "      <td>29</td>\n",
       "      <td>23</td>\n",
       "    </tr>\n",
       "    <tr>\n",
       "      <th>2016-11-16</th>\n",
       "      <td>2016-11-16</td>\n",
       "      <td>49</td>\n",
       "      <td>42</td>\n",
       "    </tr>\n",
       "    <tr>\n",
       "      <th>2016-11-23</th>\n",
       "      <td>2016-11-23</td>\n",
       "      <td>40</td>\n",
       "      <td>30</td>\n",
       "    </tr>\n",
       "    <tr>\n",
       "      <th>2016-11-30</th>\n",
       "      <td>2016-11-30</td>\n",
       "      <td>66</td>\n",
       "      <td>49</td>\n",
       "    </tr>\n",
       "    <tr>\n",
       "      <th>2016-12-07</th>\n",
       "      <td>2016-12-07</td>\n",
       "      <td>34</td>\n",
       "      <td>31</td>\n",
       "    </tr>\n",
       "    <tr>\n",
       "      <th>2016-12-14</th>\n",
       "      <td>2016-12-14</td>\n",
       "      <td>31</td>\n",
       "      <td>25</td>\n",
       "    </tr>\n",
       "    <tr>\n",
       "      <th>2016-12-21</th>\n",
       "      <td>2016-12-21</td>\n",
       "      <td>51</td>\n",
       "      <td>35</td>\n",
       "    </tr>\n",
       "    <tr>\n",
       "      <th>2016-12-28</th>\n",
       "      <td>2016-12-28</td>\n",
       "      <td>57</td>\n",
       "      <td>41</td>\n",
       "    </tr>\n",
       "    <tr>\n",
       "      <th>2017-01-05</th>\n",
       "      <td>2017-01-05</td>\n",
       "      <td>36</td>\n",
       "      <td>38</td>\n",
       "    </tr>\n",
       "    <tr>\n",
       "      <th>2017-01-11</th>\n",
       "      <td>2017-01-11</td>\n",
       "      <td>119</td>\n",
       "      <td>85</td>\n",
       "    </tr>\n",
       "  </tbody>\n",
       "</table>\n",
       "<p>220 rows × 3 columns</p>\n",
       "</div>"
      ],
      "text/plain": [
       "                  date  edges  nodes\n",
       "2012-10-30  2012-10-30    133     71\n",
       "2012-11-07  2012-11-07    176     79\n",
       "2012-11-14  2012-11-14    112     67\n",
       "2012-11-21  2012-11-21     83     49\n",
       "2012-11-28  2012-11-28     53     37\n",
       "2012-12-05  2012-12-05     53     32\n",
       "2012-12-12  2012-12-12     21     19\n",
       "2012-12-19  2012-12-19     34     23\n",
       "2012-12-26  2012-12-26     38     28\n",
       "2013-01-02  2013-01-02     41     26\n",
       "2013-01-09  2013-01-09     24     20\n",
       "2013-01-17  2013-01-17     32     27\n",
       "2013-01-23  2013-01-23     60     45\n",
       "2013-01-30  2013-01-30    113     70\n",
       "2013-02-06  2013-02-06     70     50\n",
       "2013-02-13  2013-02-13     86     55\n",
       "2013-02-20  2013-02-20    141     92\n",
       "2013-02-27  2013-02-27    107     73\n",
       "2013-03-06  2013-03-06    184    112\n",
       "2013-03-13  2013-03-13    146     90\n",
       "2013-03-20  2013-03-20    172    102\n",
       "2013-03-27  2013-03-27    163     99\n",
       "2013-04-03  2013-04-03    145     81\n",
       "2013-04-10  2013-04-10    194    110\n",
       "2013-04-17  2013-04-17    179    107\n",
       "2013-04-24  2013-04-24    185    105\n",
       "2013-05-01  2013-05-01    181    104\n",
       "2013-05-08  2013-05-08    173    112\n",
       "2013-05-15  2013-05-15    133     81\n",
       "2013-05-22  2013-05-22    144     83\n",
       "...                ...    ...    ...\n",
       "2016-06-22  2016-06-22     49     49\n",
       "2016-06-29  2016-06-29     61     52\n",
       "2016-07-06  2016-07-06     48     43\n",
       "2016-07-13  2016-07-13     35     27\n",
       "2016-07-20  2016-07-20     46     41\n",
       "2016-07-27  2016-07-27     22     24\n",
       "2016-08-03  2016-08-03     49     43\n",
       "2016-08-10  2016-08-10     51     40\n",
       "2016-08-17  2016-08-17     40     32\n",
       "2016-08-24  2016-08-24     49     37\n",
       "2016-08-31  2016-08-31     50     40\n",
       "2016-09-07  2016-09-07     34     30\n",
       "2016-09-14  2016-09-14     42     37\n",
       "2016-09-21  2016-09-21     35     31\n",
       "2016-09-28  2016-09-28     35     30\n",
       "2016-10-05  2016-10-05     51     42\n",
       "2016-10-12  2016-10-12     39     24\n",
       "2016-10-19  2016-10-19     50     43\n",
       "2016-10-26  2016-10-26     31     29\n",
       "2016-11-02  2016-11-02     50     45\n",
       "2016-11-09  2016-11-09     29     23\n",
       "2016-11-16  2016-11-16     49     42\n",
       "2016-11-23  2016-11-23     40     30\n",
       "2016-11-30  2016-11-30     66     49\n",
       "2016-12-07  2016-12-07     34     31\n",
       "2016-12-14  2016-12-14     31     25\n",
       "2016-12-21  2016-12-21     51     35\n",
       "2016-12-28  2016-12-28     57     41\n",
       "2017-01-05  2017-01-05     36     38\n",
       "2017-01-11  2017-01-11    119     85\n",
       "\n",
       "[220 rows x 3 columns]"
      ]
     },
     "execution_count": 152,
     "metadata": {},
     "output_type": "execute_result"
    }
   ],
   "source": [
    "import pandas as pd\n",
    "import numpy as np\n",
    "import matplotlib.pyplot as plt\n",
    "\n",
    "# s = pd.Series([1,3,5,np.nan,6,8])\n",
    "# dates = pd.date_range('20130101', periods=6)\n",
    "# df = pd.DataFrame(np.random.randn(6,2), index=dates, columns=['#nodes', '#edges'])\n",
    "df = pd.DataFrame(timeSeries, index=timeSeries['date'],)\n",
    "df\n",
    "# df.describe()"
   ]
  },
  {
   "cell_type": "markdown",
   "metadata": {},
   "source": [
    "Let's us plot some graphs"
   ]
  },
  {
   "cell_type": "code",
   "execution_count": 188,
   "metadata": {
    "collapsed": false
   },
   "outputs": [
    {
     "data": {
      "text/plain": [
       "<matplotlib.figure.Figure at 0x10a76ed68>"
      ]
     },
     "metadata": {},
     "output_type": "display_data"
    },
    {
     "data": {
      "image/png": "[encoded data removed]",
      "text/plain": [
       "<matplotlib.figure.Figure at 0x10a774630>"
      ]
     },
     "metadata": {},
     "output_type": "display_data"
    }
   ],
   "source": [
    "plt.figure()\n",
    "df.plot()\n",
    "plt.legend(loc=\"best\")\n",
    "x=[1,220]\n",
    "y=[100,100]\n",
    "plt.plot(x,y,'-')\n",
    "circle1=plt.Circle((35,150),30, color='r', alpha=0.2)\n",
    "plt.gcf().gca().add_artist(circle1)\n",
    "plt.ylabel(\"Number of nodes (edges)\")\n",
    "plt.xlabel(\"Weeks marked by their first date\")\n",
    "plt.savefig(\"../data/wtp-networks/timeseries_nodes_edges.pdf\")\n",
    "plt.show()"
   ]
  },
  {
   "cell_type": "markdown",
   "metadata": {},
   "source": [
    "This shows that the communication has a spike at the beginning a Wikidata and become stable overtime. #nodes and #edges has a strong correlation with each other. This again makes sense since more people more talking."
   ]
  },
  {
   "cell_type": "markdown",
   "metadata": {},
   "source": [
    "## Inter-Talk Page Network Analysis"
   ]
  },
  {
   "cell_type": "code",
   "execution_count": 73,
   "metadata": {
    "collapsed": false
   },
   "outputs": [
    {
     "name": "stdout",
     "output_type": "stream",
     "text": [
      "['A', 'B', 'C', 'D']\n"
     ]
    }
   ],
   "source": [
    "print(list('ABCD'))"
   ]
  },
  {
   "cell_type": "code",
   "execution_count": null,
   "metadata": {
    "collapsed": false
   },
   "outputs": [],
   "source": [
    "itpNetwork = createGraph(\"../data/itpnetwork.csv\")\n",
    "print(\"number of nodes: \",str(itpNetwork.number_of_nodes()))\n",
    "print(\"number of edges: \",str(itpNetwork.number_of_edges()))"
   ]
  },
  {
   "cell_type": "code",
   "execution_count": null,
   "metadata": {
    "collapsed": false
   },
   "outputs": [],
   "source": [
    "computeAndPlotDegreeStats(itpNetwork)"
   ]
  },
  {
   "cell_type": "code",
   "execution_count": null,
   "metadata": {
    "collapsed": false
   },
   "outputs": [],
   "source": [
    "boxPlotDegreeDist(itpNetwork)"
   ]
  },
  {
   "cell_type": "code",
   "execution_count": null,
   "metadata": {
    "collapsed": false
   },
   "outputs": [],
   "source": [
    "analyzeComponents(itpNetwork)"
   ]
  },
  {
   "cell_type": "code",
   "execution_count": null,
   "metadata": {
    "collapsed": false
   },
   "outputs": [],
   "source": [
    "print(\"ITP-Network\")\n",
    "drawGraph(itpNetwork, \"itp-network.png\")"
   ]
  },
  {
   "cell_type": "markdown",
   "metadata": {
    "collapsed": true
   },
   "source": [
    "## Degree Assortitative Analysis"
   ]
  },
  {
   "cell_type": "code",
   "execution_count": null,
   "metadata": {
    "collapsed": false
   },
   "outputs": [],
   "source": [
    "degree_assortativity_analysis(itpNetwork, \"inter page talk network\")\n",
    "degree_assortativity_analysis(wtpNetwork, \"within talk page network\")\n",
    "\n"
   ]
  },
  {
   "cell_type": "markdown",
   "metadata": {},
   "source": [
    "We now need to verify significant testing with Z-score by generate 100 graphs for each talk page networks with the same in-degree and out-degree sequences."
   ]
  },
  {
   "cell_type": "code",
   "execution_count": null,
   "metadata": {
    "collapsed": false
   },
   "outputs": [],
   "source": [
    "# generate 100 random graphs with the same in, out-degree sequence\n",
    "wtp_in_degs = [node[1] for node in wtpNetwork.in_degree_iter()]\n",
    "wtp_out_degs = [node[1] for node in wtpNetwork.out_degree_iter()]\n",
    "wtp_random_graphs = []\n",
    "for i in range(100):\n",
    "    wtp_random_graphs.append(nx.directed_configuration_model(wtp_in_degs,wtp_out_degs))\n",
    "\n",
    "# generate 100 random graphs with the same in, out-degree sequence\n",
    "itp_in_degs = [node[1] for node in itpNetwork.in_degree_iter()]\n",
    "itp_out_degs = [node[1] for node in itpNetwork.out_degree_iter()]\n",
    "itp_random_graphs = []\n",
    "for i in range(100):\n",
    "    itp_random_graphs.append(nx.directed_configuration_model(itp_in_degs, itp_out_degs))\n",
    "    \n",
    "\n"
   ]
  },
  {
   "cell_type": "code",
   "execution_count": null,
   "metadata": {
    "collapsed": false
   },
   "outputs": [],
   "source": [
    "\n",
    "    \n",
    "        "
   ]
  },
  {
   "cell_type": "code",
   "execution_count": null,
   "metadata": {
    "collapsed": false
   },
   "outputs": [],
   "source": [
    "\n",
    "compute_z_score_for_assortativity(wtpNetwork, \"within talk page network\")\n",
    "compute_z_score_for_assortativity(itpNetwork, \"inter talk page network\")\n"
   ]
  },
  {
   "cell_type": "markdown",
   "metadata": {},
   "source": [
    "Now we compute the statistical significance. According to \"Edge direction and structure of networks\", Jacob G. Foster et al. r(out,in) (degree assortativity of in degree of source node and out degree of target node) is computed as Pearson correlation between two random variables: X being out degree of source node and Y being in degree of target node. We have similar definitions for r(out,out), r(in,in), and r(in,out).\n",
    "\n",
    "The Z-score is computed is as how many deviation of r-value from an average (over 100) in our case. "
   ]
  },
  {
   "cell_type": "code",
   "execution_count": null,
   "metadata": {
    "collapsed": true
   },
   "outputs": [],
   "source": []
  },
  {
   "cell_type": "markdown",
   "metadata": {
    "collapsed": true
   },
   "source": [
    "## Content network analysis\n"
   ]
  },
  {
   "cell_type": "code",
   "execution_count": null,
   "metadata": {
    "collapsed": false
   },
   "outputs": [],
   "source": [
    "# there is something odd about some lines in contentnetwork.csv (e.g. \",0,,1\"). We need to remove them. \n",
    "\n",
    "inputfile = open(\"../data/contentnetwork.csv\", 'r')\n",
    "outputfile = open(\"../data/contentnetworkprocessed.csv\", 'w+')\n",
    "for l in inputfile:\n",
    "    if (not l.startswith(\",\")):\n",
    "#         print(l)\n",
    "        outputfile.write(l.upper())\n"
   ]
  },
  {
   "cell_type": "code",
   "execution_count": null,
   "metadata": {
    "collapsed": false
   },
   "outputs": [],
   "source": [
    "itpNetwork = createGraph(\"../data/contentnetwork.csv\")\n",
    "print(\"number of nodes: \",str(itpNetwork.number_of_nodes()))\n",
    "print(\"number of edges: \",str(itpNetwork.number_of_edges()))"
   ]
  },
  {
   "cell_type": "code",
   "execution_count": null,
   "metadata": {
    "collapsed": false
   },
   "outputs": [],
   "source": [
    "pitpNetwork = createGraph(\"../data/contentnetworkprocessed.csv\")\n",
    "print(\"number of nodes: \",str(pitpNetwork.number_of_nodes()))\n",
    "print(\"number of edges: \",str(pitpNetwork.number_of_edges()))"
   ]
  },
  {
   "cell_type": "code",
   "execution_count": null,
   "metadata": {
    "collapsed": false
   },
   "outputs": [],
   "source": [
    "drawGraph(pitpNetwork, 'content network')"
   ]
  },
  {
   "cell_type": "code",
   "execution_count": null,
   "metadata": {
    "collapsed": false
   },
   "outputs": [],
   "source": [
    "compute_z_score_for_assortativity(pitpNetwork, \"content network\")\n",
    "\n"
   ]
  },
  {
   "cell_type": "code",
   "execution_count": null,
   "metadata": {
    "collapsed": true
   },
   "outputs": [],
   "source": []
  },
  {
   "cell_type": "code",
   "execution_count": null,
   "metadata": {
    "collapsed": false
   },
   "outputs": [],
   "source": [
    "boxPlotDegreeDist(pitpNetwork)"
   ]
  },
  {
   "cell_type": "markdown",
   "metadata": {
    "collapsed": true
   },
   "source": [
    "## Within talk page in property namespace"
   ]
  },
  {
   "cell_type": "code",
   "execution_count": null,
   "metadata": {
    "collapsed": false
   },
   "outputs": [],
   "source": [
    "wtppropNetwork = createGraph(\"../data/wtpnetwork_propertynamespace.csv\")\n",
    "print(\"number of nodes: \",str(wtppropNetwork.number_of_nodes()))\n",
    "print(\"number of edges: \",str(wtppropNetwork.number_of_edges()))"
   ]
  },
  {
   "cell_type": "code",
   "execution_count": null,
   "metadata": {
    "collapsed": false
   },
   "outputs": [],
   "source": [
    "boxPlotDegreeDist(wtppropNetwork)"
   ]
  },
  {
   "cell_type": "code",
   "execution_count": null,
   "metadata": {
    "collapsed": false
   },
   "outputs": [],
   "source": [
    "drawGraph(wtppropNetwork, 'wtp network - property talk space')"
   ]
  },
  {
   "cell_type": "code",
   "execution_count": null,
   "metadata": {
    "collapsed": false
   },
   "outputs": [],
   "source": [
    "compute_z_score_for_assortativity(wtppropNetwork, \"wtp network property namespace\")\n",
    "\n"
   ]
  }
 ],
 "metadata": {
  "kernelspec": {
   "display_name": "Python 3",
   "language": "python",
   "name": "python3"
  },
  "language_info": {
   "codemirror_mode": {
    "name": "ipython",
    "version": 3
   },
   "file_extension": ".py",
   "mimetype": "text/x-python",
   "name": "python",
   "nbconvert_exporter": "python",
   "pygments_lexer": "ipython3",
   "version": "3.5.2"
  }
 },
 "nbformat": 4,
 "nbformat_minor": 0
}
