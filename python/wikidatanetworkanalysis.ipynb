{
 "cells": [
  {
   "cell_type": "markdown",
   "metadata": {},
   "source": [
    "Within-talkpage-network is modeled as a directed graph."
   ]
  },
  {
   "cell_type": "code",
   "execution_count": 1,
   "metadata": {
    "collapsed": false
   },
   "outputs": [],
   "source": [
    "# define functions to work with graph\n",
    "import networkx as nx\n",
    "import numpy as np\n",
    "import matplotlib.pyplot as plt\n",
    "\n",
    "\n",
    "def extractTime(line, delim):\n",
    "    v = line.split(delim)\n",
    "    return v[2]\n",
    "    \n",
    "def createGraph(pathtographfile, delim):\n",
    "    f = open(pathtographfile, 'r')\n",
    "    edge_to_weight = {}\n",
    "    count = 0\n",
    "    firstDate = None\n",
    "    for line in f:\n",
    "        key = line.rstrip()\n",
    "        if count == 0:\n",
    "            firstDate = extractTime(key,delim)\n",
    "            count += 1\n",
    "        if key in edge_to_weight:\n",
    "            edge_to_weight[key] += 1\n",
    "        else:\n",
    "            edge_to_weight[key] = 1\n",
    "    G = nx.DiGraph(firstDate=firstDate)\n",
    "    for (e,w) in edge_to_weight.items():\n",
    "        v = e.split(delim)\n",
    "        G.add_edge(v[0], v[1], weight=w, time=v[2])\n",
    "    return G\n",
    "\n",
    "def computeAndPlotDegreeStats(G):\n",
    "    in_degrees = []\n",
    "    count = 0\n",
    "    for indeg in G.in_degree_iter():\n",
    "        in_degrees.append(indeg[1])\n",
    "        if (indeg[1] >= 1):\n",
    "            count += 1\n",
    "        \n",
    "\n",
    "    print(\"mean in-degree\", np.mean(in_degrees), \"sd = \", np.std(in_degrees))\n",
    "    print (\"max in-degree = \", np.max(in_degrees))\n",
    "    print(\"w. in-degree >= 1 = \", count)\n",
    "\n",
    "    out_degrees = []\n",
    "    count = 0\n",
    "    for outdeg in G.out_degree_iter():\n",
    "        out_degrees.append(outdeg[1])\n",
    "        if (outdeg[1] >= 1):\n",
    "            count += 1\n",
    "    print(\"mean out-degree\", np.mean(out_degrees), \" sd =\", np.std(out_degrees))\n",
    "    print (\"max out-degree = \", np.max(out_degrees))\n",
    "    print(\"w. out-degree >= 1 = \", count)\n",
    "   \n",
    "    import matplotlib.pyplot as plt\n",
    "    fig = plt.figure(figsize=(12,6))\n",
    "    idplot = fig.add_subplot(121)\n",
    "    idplot.hist(in_degrees, bins=50)\n",
    "    idplot.set_title(\"in-degree distribution\")\n",
    "    odplot = fig.add_subplot(122)\n",
    "    odplot.hist(out_degrees, bins=50)\n",
    "    odplot.set_title(\"out-degree distribution\")\n",
    "    plt.show()\n",
    "    \n",
    "    \n",
    "def boxPlotDegreeDist(G):\n",
    "    in_degrees = []\n",
    "    for indeg in G.in_degree_iter():\n",
    "        in_degrees.append(indeg[1])\n",
    "    print(\"Avg. indegree \", np.mean(in_degrees))\n",
    "    print(\"Std. indegree \", np.std(in_degrees))\n",
    "    out_degrees = []\n",
    "    for outdeg in G.out_degree_iter():\n",
    "        out_degrees.append(outdeg[1])\n",
    "    print(\"Avg. outdegree\", np.mean(out_degrees))\n",
    "    print(\"Std. outdegree\", np.std(out_degrees))\n",
    "    data = [in_degrees, out_degrees]\n",
    "    plt.figure()\n",
    "    plt.boxplot(data, labels=[\"in-degree\", \"out-degree\"])\n",
    "    plt.savefig(\"/Users/totucuong-standard/Projects/wikisocial-paper/images/boxplot_degree\")\n",
    "    plt.show()\n",
    "    \n",
    "#     fig2 = plt.figure(figsize=(12,6))\n",
    "#     indegbox = fig2.add_subplot(121)\n",
    "#     indegbox.set_title(\"in-degree\")\n",
    "#     indegbox.boxplot(in_degrees)\n",
    "#     outdegbox = fig2.add_subplot(122)\n",
    "#     outdegbox.set_title(\"out-degree\")\n",
    "#     outdegbox.boxplot(out_degrees)\n",
    "#     plt.show()\n",
    "\n",
    "\n",
    "def drawGraph(G, name):\n",
    "    nx.draw(G, node_size=10)\n",
    "    plt.savefig(name)\n",
    "    plt.show()\n",
    "    \n",
    "def analyzeComponents(G):\n",
    "    UG = G.to_undirected()\n",
    "    largest_cc = max(nx.connected_components(UG), key=len)\n",
    "    print(\"number of components:\", nx.number_connected_components(UG))\n",
    "    print(\"number of nodes in large connected component\", len(largest_cc))\n",
    "    print(\"size of giant component compared to original graph\", len(largest_cc)/G.number_of_nodes()*100)\n",
    "    print(\"size of giant component\", len(largest_cc))\n",
    "    \n",
    "\n",
    "# compute top-k indegree of a network\n",
    "# direction={'in', 'out'}\n",
    "# k = number of nodes\n",
    "# G = a graph\n",
    "def top_degree(direction,k,G):\n",
    "    degree_dict = None\n",
    "    if (direction == 'in'):\n",
    "        print('in degree computation...')\n",
    "        degree_dict = wtpNetwork.in_degree()\n",
    "    elif (direction == 'out'):\n",
    "        print('out degree computation....')\n",
    "        degree_dict = wtpNetwork.out_degree()\n",
    "    else:\n",
    "        raise ValueError(\"direction must be in or out\")\n",
    "    degree_tuples = [(k,v) for k, v in degree_dict.items()]\n",
    "    degree_tuples_sorted = sorted(degree_tuples, key = lambda x: x[1], reverse=True)\n",
    "    result = []\n",
    "    for i in range(10):\n",
    "        result.append(degree_tuples_sorted[i])\n",
    "    return result\n",
    "\n",
    "def degree_assortativity_analysis(G, name):\n",
    "    # r(in, out)\n",
    "    result = {}\n",
    "    print(\"Degree assortativity of graph \", name)\n",
    "    r_in_out = nx.degree_assortativity_coefficient(G, x='in', y='out')\n",
    "    print('r(in,out) = ', r_in_out)\n",
    "    result['in_out'] = r_in_out\n",
    "\n",
    "    # r(in, in)\n",
    "    r_in_in = nx.degree_assortativity_coefficient(G, x='in', y='in')\n",
    "    print('r(in,in) = ', r_in_in)\n",
    "    result['in_in'] = r_in_in\n",
    "\n",
    "    # r(out, in)\n",
    "    r_out_in = nx.degree_assortativity_coefficient(G, x='out', y='in')\n",
    "    print('r(out,in) = ', r_out_in)\n",
    "    result['out_in'] = r_out_in\n",
    "\n",
    "    # r(out, out)\n",
    "    r_out_out = nx.degree_assortativity_coefficient(G, x='out', y='out')\n",
    "    print('r(out,out) = ', r_out_out)\n",
    "    result['out_out'] = r_out_out\n",
    "    return result\n",
    "    \n",
    "    \n",
    "def generate_random_graph(G):\n",
    "    in_degs = [node[1] for node in G.in_degree_iter()]\n",
    "    out_degs = [node[1] for node in G.out_degree_iter()]\n",
    "    random_graphs = []\n",
    "    for i in range(100):\n",
    "        random_graphs.append(nx.directed_configuration_model(in_degs,out_degs))\n",
    "    return random_graphs\n",
    "\n",
    "\n",
    "def compute_assortativity_mean_std(graphs, x='in', y='out'):\n",
    "    result = {}\n",
    "    assortativities = []\n",
    "    for i in range(100):\n",
    "        assortativities.append(nx.degree_assortativity_coefficient(graphs[i], x, y))\n",
    "    result['mean'] = np.mean(assortativities)\n",
    "    result['std'] = np.std(assortativities)\n",
    "    return result\n",
    "\n",
    "def zscore(r, mean, std):\n",
    "    return (r-mean)/std\n",
    "    \n",
    "\n",
    "def compute_z_score_for_assortativity(G, name):\n",
    "    \"\"\"\n",
    "    G: graph that we want to study assortitativity\n",
    "    name: name of graph that we want to study\n",
    "    \"\"\"\n",
    "    # compute degree assortativity\n",
    "    assort = degree_assortativity_analysis(G,name)\n",
    "    \n",
    "    # compute z-score to see the confidence |Z| > 2 is consisdered to be believable\n",
    "    random_graphs = generate_random_graph(G)\n",
    "    \n",
    "    # z(in,out)\n",
    "    stats = compute_assortativity_mean_std(random_graphs, x='in', y='out')\n",
    "    print('z(in,out) = ', zscore(assort['in_out'], stats['mean'], stats['std']))\n",
    "    print('std_in_out = ', stats['std'])\n",
    "    print('mean_in_out = ', stats['mean'])\n",
    "\n",
    "    # z(in, in)\n",
    "    stats = compute_assortativity_mean_std(random_graphs, x='in', y='in')\n",
    "    print('z(in,in) = ', zscore(assort['in_in'], stats['mean'], stats['std']))\n",
    "    print('std_in_in = ', stats['std'])\n",
    "    print('mean_in_in = ', stats['mean'])\n",
    "\n",
    "    # z(out, in)\n",
    "    stats = compute_assortativity_mean_std(random_graphs, x='out', y='in')\n",
    "    print('z(out,in) = ', zscore(assort['out_in'], stats['mean'], stats['std']))\n",
    "    print('std_out_in = ', stats['std'])\n",
    "    print('mean_out_in = ', stats['mean'])\n",
    "\n",
    "\n",
    "    # z(out, out)\n",
    "    stats = compute_assortativity_mean_std(random_graphs, x='out', y='out')\n",
    "    print('z(out, out) = ', zscore(assort['out_out'], stats['mean'], stats['std']))\n",
    "    print('std_out_out = ', stats['std'])\n",
    "    print('mean_out_out = ', stats['mean'])\n",
    "\n",
    "                  "
   ]
  },
  {
   "cell_type": "markdown",
   "metadata": {},
   "source": [
    "## Within-Network-Page Network Analysis\n"
   ]
  },
  {
   "cell_type": "code",
   "execution_count": 2,
   "metadata": {
    "collapsed": false
   },
   "outputs": [
    {
     "name": "stdout",
     "output_type": "stream",
     "text": [
      "number of nodes:  2314\n",
      "number of edges:  9152\n"
     ]
    }
   ],
   "source": [
    "wtpNetwork = createGraph(\"../data/wtp-networks/wtpnetwork_timestamp.csv\", \";\")\n",
    "print(\"number of nodes: \",str(wtpNetwork.number_of_nodes()))\n",
    "print(\"number of edges: \",str(wtpNetwork.number_of_edges()))\n"
   ]
  },
  {
   "cell_type": "code",
   "execution_count": 3,
   "metadata": {
    "collapsed": false
   },
   "outputs": [
    {
     "name": "stdout",
     "output_type": "stream",
     "text": [
      "mean in-degree 3.95505617978 sd =  9.87075786245\n",
      "max in-degree =  174\n",
      "w. in-degree >= 1 =  1847\n",
      "mean out-degree 3.95505617978  sd = 9.83720834583\n",
      "max out-degree =  183\n",
      "w. out-degree >= 1 =  2015\n"
     ]
    },
    {
     "data": {
      "image/png": "[encoded data removed]",
      "text/plain": [
       "<matplotlib.figure.Figure at 0x1068d2160>"
      ]
     },
     "metadata": {},
     "output_type": "display_data"
    }
   ],
   "source": [
    "computeAndPlotDegreeStats(wtpNetwork)"
   ]
  },
  {
   "cell_type": "code",
   "execution_count": 4,
   "metadata": {
    "collapsed": false
   },
   "outputs": [
    {
     "name": "stdout",
     "output_type": "stream",
     "text": [
      "Avg. indegree  3.95505617978\n",
      "Std. indegree  9.87075786245\n",
      "Avg. outdegree 3.95505617978\n",
      "Std. outdegree 9.83720834583\n"
     ]
    },
    {
     "data": {
      "image/png": "[encoded data removed]",
      "text/plain": [
       "<matplotlib.figure.Figure at 0x109b73668>"
      ]
     },
     "metadata": {},
     "output_type": "display_data"
    }
   ],
   "source": [
    "boxPlotDegreeDist(wtpNetwork)"
   ]
  },
  {
   "cell_type": "markdown",
   "metadata": {},
   "source": [
    "Here we look closer at the outlier of in-degree and out-degree people."
   ]
  },
  {
   "cell_type": "code",
   "execution_count": 5,
   "metadata": {
    "collapsed": false
   },
   "outputs": [
    {
     "name": "stdout",
     "output_type": "stream",
     "text": [
      "The person got asked alot  {'SamoaBot'}\n",
      "max in degree 174\n",
      "The person asked alot  {'User:Rotsaert8000'}\n"
     ]
    }
   ],
   "source": [
    "# in degree dictionary: node -> in-degree\n",
    "node_to_indegree = dict(list(wtpNetwork.in_degree_iter()))\n",
    "max_in_degree = np.max(list(node_to_indegree.values()))\n",
    "\n",
    "# inverted index: in-degree -> node\n",
    "indegree_to_node = [set() for x in range(0, max_in_degree+1)]\n",
    "for k, v in node_to_indegree.items():\n",
    "    indegree_to_node[v].add(k)\n",
    "    \n",
    "print(\"The person got asked alot \", indegree_to_node[max_in_degree])\n",
    "print (\"max in degree\", max_in_degree)\n",
    "# out degree dictionary: node -> out-degree\n",
    "node_to_outdegree = dict(list(wtpNetwork.out_degree_iter()))\n",
    "max_out_degree = np.max(list(node_to_outdegree.values()))\n",
    "# inverted index: out-degree -> node\n",
    "outdegree_to_node = [set() for x in range(0, max_out_degree+1)]\n",
    "for k, v in node_to_outdegree.items():\n",
    "    outdegree_to_node[v].add(k)\n",
    "    \n",
    "print(\"The person asked alot \", outdegree_to_node[max_out_degree])\n",
    "# print (\"max out degree\", max_out_degree)"
   ]
  },
  {
   "cell_type": "markdown",
   "metadata": {},
   "source": [
    "## Top influnencers"
   ]
  },
  {
   "cell_type": "code",
   "execution_count": 6,
   "metadata": {
    "collapsed": false,
    "scrolled": true
   },
   "outputs": [
    {
     "name": "stdout",
     "output_type": "stream",
     "text": [
      "in degree computation...\n",
      "top 10 in-degree\n",
      "[('SamoaBot', 174), ('Ricordisamoa', 173), ('Ymblanter', 153), ('Vogone', 96), ('Kolja21', 94), ('Byrialbot', 84), ('Alexmar983', 78), ('GZWDer', 67), ('Andreasmperu', 65), ('Michiel1972', 62)]\n",
      "out degree computation....\n",
      "top 10 out-degree\n",
      "[('User:Rotsaert8000', 183), ('Ricordi', 141), ('Tobias1984', 139), ('Ymblanter', 138), ('Kolja21', 100), ('לערי_ריינהארט', 81), ('ValterVB', 78), ('Multichill', 73), ('Zolo', 73), ('Vogone', 73)]\n"
     ]
    }
   ],
   "source": [
    "# ranking by in-degree\n",
    "top_10_indeg = top_degree(direction='in', G=wtpNetwork, k=10)\n",
    "print(\"top 10 in-degree\")\n",
    "print(top_10_indeg)\n",
    "\n",
    "# ranking by out-degree\n",
    "top_10_outdeg = top_degree(direction='out', G=wtpNetwork, k=10)\n",
    "print(\"top 10 out-degree\")\n",
    "print(top_10_outdeg)\n",
    "\n"
   ]
  },
  {
   "cell_type": "markdown",
   "metadata": {},
   "source": [
    "## Graph Visualization"
   ]
  },
  {
   "cell_type": "code",
   "execution_count": 17,
   "metadata": {
    "collapsed": false
   },
   "outputs": [],
   "source": [
    "# \"\"\"\n",
    "# Draw a graph with matplotlib.\n",
    "# You must have matplotlib for this to work.\n",
    "# \"\"\"\n",
    "# try:\n",
    "#     import matplotlib.pyplot as plt\n",
    "# except:\n",
    "#     raise\n",
    "\n",
    "# import networkx as nx\n",
    "\n",
    "# # G=nx.path_graph(8)\n",
    "\n",
    "# nx.draw(GG, node_size=10)\n",
    "# plt.savefig(\"wtp-network.png\") # save as png\n",
    "# plt.show() # display\n",
    "# print(\"WTP-Network\")\n",
    "# drawGraph(wtpNetwork, \"wtp-network.png\")\n",
    "G = wtpNetwork"
   ]
  },
  {
   "cell_type": "markdown",
   "metadata": {},
   "source": [
    "## Connected components\n",
    "The statistics in this section is computed by treating G as undirected graph (UG)"
   ]
  },
  {
   "cell_type": "code",
   "execution_count": 18,
   "metadata": {
    "collapsed": false
   },
   "outputs": [
    {
     "name": "stdout",
     "output_type": "stream",
     "text": [
      "number of nodes in large connected component 2152\n",
      "size of giant component compared to original graph 92.9991356957649\n",
      "size of giant component 2152\n"
     ]
    }
   ],
   "source": [
    "UG = G.to_undirected()\n",
    "# nC = nx.number_connected_components(UG)\n",
    "# C = nx.connected_components(UG)\n",
    "largest_cc = max(nx.connected_components(UG), key=len)\n",
    "print(\"number of nodes in large connected component\", len(largest_cc))\n",
    "print(\"size of giant component compared to original graph\", len(largest_cc)/G.number_of_nodes()*100)\n",
    "print(\"size of giant component\", len(largest_cc))"
   ]
  },
  {
   "cell_type": "markdown",
   "metadata": {
    "collapsed": true
   },
   "source": [
    "## Distance measures\n"
   ]
  },
  {
   "cell_type": "code",
   "execution_count": 19,
   "metadata": {
    "collapsed": false
   },
   "outputs": [
    {
     "name": "stdout",
     "output_type": "stream",
     "text": [
      "GG is  True\n",
      "average distance in giant component:  2.242483395809678\n",
      "2152\n"
     ]
    }
   ],
   "source": [
    "# giant component\n",
    "GG = G.subgraph(largest_cc)\n",
    "print(\"GG is \",nx.is_directed(GG))\n",
    "print(\"average distance in giant component: \", nx.average_shortest_path_length(GG))\n",
    "print(len(GG))"
   ]
  },
  {
   "cell_type": "code",
   "execution_count": 20,
   "metadata": {
    "collapsed": false
   },
   "outputs": [
    {
     "ename": "NameError",
     "evalue": "name 'paths' is not defined",
     "output_type": "error",
     "traceback": [
      "\u001b[0;31m---------------------------------------------------------------------------\u001b[0m",
      "\u001b[0;31mNameError\u001b[0m                                 Traceback (most recent call last)",
      "\u001b[0;32m<ipython-input-20-e6c09103b9eb>\u001b[0m in \u001b[0;36m<module>\u001b[0;34m()\u001b[0m\n\u001b[0;32m----> 1\u001b[0;31m \u001b[0mprint\u001b[0m\u001b[0;34m(\u001b[0m\u001b[0;34m\"number of nodes \"\u001b[0m\u001b[0;34m,\u001b[0m \u001b[0mlen\u001b[0m\u001b[0;34m(\u001b[0m\u001b[0mpaths\u001b[0m\u001b[0;34m.\u001b[0m\u001b[0mkeys\u001b[0m\u001b[0;34m(\u001b[0m\u001b[0;34m)\u001b[0m\u001b[0;34m)\u001b[0m\u001b[0;34m)\u001b[0m\u001b[0;34m\u001b[0m\u001b[0m\n\u001b[0m\u001b[1;32m      2\u001b[0m \u001b[0mprint\u001b[0m\u001b[0;34m(\u001b[0m\u001b[0mlen\u001b[0m\u001b[0;34m(\u001b[0m\u001b[0mpaths\u001b[0m\u001b[0;34m[\u001b[0m\u001b[0;34m'Acroterion'\u001b[0m\u001b[0;34m]\u001b[0m\u001b[0;34m)\u001b[0m\u001b[0;34m)\u001b[0m\u001b[0;34m\u001b[0m\u001b[0m\n\u001b[1;32m      3\u001b[0m \u001b[0;31m# for target in paths['Acroterion']:\u001b[0m\u001b[0;34m\u001b[0m\u001b[0;34m\u001b[0m\u001b[0m\n\u001b[1;32m      4\u001b[0m \u001b[0;31m#     print(\"path length from Acroterion\", len(paths['Acroterion'][target]))\u001b[0m\u001b[0;34m\u001b[0m\u001b[0;34m\u001b[0m\u001b[0m\n",
      "\u001b[0;31mNameError\u001b[0m: name 'paths' is not defined"
     ]
    }
   ],
   "source": [
    "print(\"number of nodes \", len(paths.keys()))\n",
    "print(len(paths['Acroterion']))\n",
    "# for target in paths['Acroterion']:\n",
    "#     print(\"path length from Acroterion\", len(paths['Acroterion'][target]))"
   ]
  },
  {
   "cell_type": "code",
   "execution_count": null,
   "metadata": {
    "collapsed": false
   },
   "outputs": [],
   "source": [
    "def rescue_code(function):\n",
    "    import inspect\n",
    "    get_ipython().set_next_input(\"\".join(inspect.getsourcelines(function)[0]))\n",
    "    \n"
   ]
  },
  {
   "cell_type": "markdown",
   "metadata": {},
   "source": [
    "## Dynamic Analysis of WTP-network in Usertalk Namespace\n",
    "\n",
    "First we need to generate some timeSeries data. The first two series are number of nodes and number of edges for each week."
   ]
  },
  {
   "cell_type": "code",
   "execution_count": 4,
   "metadata": {
    "collapsed": false
   },
   "outputs": [],
   "source": [
    "def createWeeklyGraph(prefix, weekNumber):\n",
    "    filePath = prefix + str(weekNumber)\n",
    "    return createGraph(delim=\";\",pathtographfile=filePath)\n",
    "\n",
    "def buildFileHeader(columns):\n",
    "    header =\"\"\n",
    "    for i in range(0,len(columns) - 1):\n",
    "        header += str(columns[i]) + \";\"\n",
    "    header += str(columns[len(columns) -1])\n",
    "    return header\n",
    "\n",
    "def buildFileLine(columns):\n",
    "    return buildFileHeader(columns)\n",
    "\n",
    "def buildTimeSeries(graphs):\n",
    "    # building timeseries data \n",
    "    timeSeries = {}\n",
    "    # timeSeries['#nodes'] = 2\n",
    "    # timeSeries['#edges'] = 3\n",
    "    # print(timeSeries['#nodes'])\n",
    "    numberOfNodes = []\n",
    "    numberOfEdges = []\n",
    "    dates = []\n",
    "    for i in range(0, 220):\n",
    "        numberOfNodes.append(graphs[i].number_of_nodes())\n",
    "        numberOfEdges.append(graphs[i].number_of_edges())\n",
    "        dates.append(graphs[i].graph['firstDate'])\n",
    "        \n",
    "    timeSeries['nodes'] = numberOfNodes\n",
    "    timeSeries['edges'] = numberOfEdges\n",
    "    timeSeries['date'] = dates\n",
    "    return timeSeries\n",
    "\n",
    "def saveTimeSeries(filePath, timeSeries):\n",
    "    with open(filePath, 'w') as f:\n",
    "        f.write(buildFileHeader(list(timeSeries.keys()))+\"\\n\")\n",
    "        for i in range(len(timeSeries)):\n",
    "            values = []\n",
    "            for col in timeSeries.keys():\n",
    "                values.append(timeSeries[col][i])\n",
    "            f.write(buildFileLine(values) + \"\\n\")\n",
    "\n",
    "def buildWeeklyGraphs(prefix, weeks):\n",
    "    graphs = []\n",
    "    for i in range(weeks):\n",
    "        graphs.append(createWeeklyGraph(prefix, i))\n",
    "    return graphs\n",
    "\n",
    "# read in weekly graphs\n",
    "graphs = buildWeeklyGraphs(\"../data/wtp-networks/wtpnetwork_timestamp.csv_\",220)\n",
    "timeSeries = buildTimeSeries(graphs)\n",
    "saveTimeSeries(\"../data/wtp-networks/wtp-timeSeries\",timeSeries)\n",
    "\n",
    "        \n",
    "    \n"
   ]
  },
  {
   "cell_type": "markdown",
   "metadata": {},
   "source": [
    "Now we want to do some time analysis using panda"
   ]
  },
  {
   "cell_type": "code",
   "execution_count": 5,
   "metadata": {
    "collapsed": false
   },
   "outputs": [],
   "source": [
    "import pandas as pd\n",
    "import numpy as np\n",
    "import matplotlib.pyplot as plt\n",
    "\n",
    "# s = pd.Series([1,3,5,np.nan,6,8])\n",
    "# dates = pd.date_range('20130101', periods=6)\n",
    "# df = pd.DataFrame(np.random.randn(6,2), index=dates, columns=['#nodes', '#edges'])\n",
    "df = pd.DataFrame(timeSeries, index=timeSeries['date'],)\n",
    "# df.describe()"
   ]
  },
  {
   "cell_type": "markdown",
   "metadata": {},
   "source": [
    "Let's us plot some graphs"
   ]
  },
  {
   "cell_type": "code",
   "execution_count": 46,
   "metadata": {
    "collapsed": false
   },
   "outputs": [
    {
     "data": {
      "text/plain": [
       "<matplotlib.figure.Figure at 0x112c41390>"
      ]
     },
     "metadata": {},
     "output_type": "display_data"
    },
    {
     "data": {
      "image/png": "[encoded data removed]",
      "text/plain": [
       "<matplotlib.figure.Figure at 0x111c77198>"
      ]
     },
     "metadata": {},
     "output_type": "display_data"
    }
   ],
   "source": [
    "plt.figure()\n",
    "\n",
    "# plot time series\n",
    "df.plot(kind=\"line\", style=['-', ':'])\n",
    "\n",
    "# drawing red line\n",
    "x=[1,220]\n",
    "y=[100,100]\n",
    "plt.plot(x,y,'-')\n",
    "\n",
    "# drawing circle\n",
    "circle1=plt.Circle((35,150),30, color='r', alpha=0.2)\n",
    "plt.gcf().gca().add_artist(circle1)\n",
    "plt.ylabel(\"Number of nodes (edges)\")\n",
    "plt.xlabel(\"Weeks marked by their first date\")\n",
    "plt.savefig(\"../data/wtp-networks/timeseries_nodes_edges.pdf\")\n",
    "plt.show()\n"
   ]
  },
  {
   "cell_type": "code",
   "execution_count": null,
   "metadata": {
    "collapsed": false
   },
   "outputs": [],
   "source": []
  },
  {
   "cell_type": "markdown",
   "metadata": {},
   "source": [
    "This shows that the communication has a spike at the beginning a Wikidata and become stable overtime. #nodes and #edges has a strong correlation with each other. This again makes sense since more people more talking."
   ]
  },
  {
   "cell_type": "markdown",
   "metadata": {},
   "source": [
    "## Inter-Talk Page Network Analysis"
   ]
  },
  {
   "cell_type": "code",
   "execution_count": 73,
   "metadata": {
    "collapsed": false
   },
   "outputs": [
    {
     "name": "stdout",
     "output_type": "stream",
     "text": [
      "['A', 'B', 'C', 'D']\n"
     ]
    }
   ],
   "source": [
    "print(list('ABCD'))"
   ]
  },
  {
   "cell_type": "code",
   "execution_count": null,
   "metadata": {
    "collapsed": false
   },
   "outputs": [],
   "source": [
    "itpNetwork = createGraph(\"../data/itpnetwork.csv\")\n",
    "print(\"number of nodes: \",str(itpNetwork.number_of_nodes()))\n",
    "print(\"number of edges: \",str(itpNetwork.number_of_edges()))"
   ]
  },
  {
   "cell_type": "code",
   "execution_count": null,
   "metadata": {
    "collapsed": false
   },
   "outputs": [],
   "source": [
    "computeAndPlotDegreeStats(itpNetwork)"
   ]
  },
  {
   "cell_type": "code",
   "execution_count": null,
   "metadata": {
    "collapsed": false
   },
   "outputs": [],
   "source": [
    "boxPlotDegreeDist(itpNetwork)"
   ]
  },
  {
   "cell_type": "code",
   "execution_count": null,
   "metadata": {
    "collapsed": false
   },
   "outputs": [],
   "source": [
    "analyzeComponents(itpNetwork)"
   ]
  },
  {
   "cell_type": "code",
   "execution_count": null,
   "metadata": {
    "collapsed": false
   },
   "outputs": [],
   "source": [
    "print(\"ITP-Network\")\n",
    "drawGraph(itpNetwork, \"itp-network.png\")"
   ]
  },
  {
   "cell_type": "markdown",
   "metadata": {
    "collapsed": true
   },
   "source": [
    "## Degree Assortitative Analysis"
   ]
  },
  {
   "cell_type": "code",
   "execution_count": null,
   "metadata": {
    "collapsed": false
   },
   "outputs": [],
   "source": [
    "degree_assortativity_analysis(itpNetwork, \"inter page talk network\")\n",
    "degree_assortativity_analysis(wtpNetwork, \"within talk page network\")\n",
    "\n"
   ]
  },
  {
   "cell_type": "markdown",
   "metadata": {},
   "source": [
    "We now need to verify significant testing with Z-score by generate 100 graphs for each talk page networks with the same in-degree and out-degree sequences."
   ]
  },
  {
   "cell_type": "code",
   "execution_count": null,
   "metadata": {
    "collapsed": false
   },
   "outputs": [],
   "source": [
    "# generate 100 random graphs with the same in, out-degree sequence\n",
    "wtp_in_degs = [node[1] for node in wtpNetwork.in_degree_iter()]\n",
    "wtp_out_degs = [node[1] for node in wtpNetwork.out_degree_iter()]\n",
    "wtp_random_graphs = []\n",
    "for i in range(100):\n",
    "    wtp_random_graphs.append(nx.directed_configuration_model(wtp_in_degs,wtp_out_degs))\n",
    "\n",
    "# generate 100 random graphs with the same in, out-degree sequence\n",
    "itp_in_degs = [node[1] for node in itpNetwork.in_degree_iter()]\n",
    "itp_out_degs = [node[1] for node in itpNetwork.out_degree_iter()]\n",
    "itp_random_graphs = []\n",
    "for i in range(100):\n",
    "    itp_random_graphs.append(nx.directed_configuration_model(itp_in_degs, itp_out_degs))\n",
    "    \n",
    "\n"
   ]
  },
  {
   "cell_type": "code",
   "execution_count": null,
   "metadata": {
    "collapsed": false
   },
   "outputs": [],
   "source": [
    "\n",
    "    \n",
    "        "
   ]
  },
  {
   "cell_type": "code",
   "execution_count": null,
   "metadata": {
    "collapsed": false
   },
   "outputs": [],
   "source": [
    "\n",
    "compute_z_score_for_assortativity(wtpNetwork, \"within talk page network\")\n",
    "compute_z_score_for_assortativity(itpNetwork, \"inter talk page network\")\n"
   ]
  },
  {
   "cell_type": "markdown",
   "metadata": {},
   "source": [
    "Now we compute the statistical significance. According to \"Edge direction and structure of networks\", Jacob G. Foster et al. r(out,in) (degree assortativity of in degree of source node and out degree of target node) is computed as Pearson correlation between two random variables: X being out degree of source node and Y being in degree of target node. We have similar definitions for r(out,out), r(in,in), and r(in,out).\n",
    "\n",
    "The Z-score is computed is as how many deviation of r-value from an average (over 100) in our case. "
   ]
  },
  {
   "cell_type": "code",
   "execution_count": null,
   "metadata": {
    "collapsed": true
   },
   "outputs": [],
   "source": []
  },
  {
   "cell_type": "markdown",
   "metadata": {
    "collapsed": true
   },
   "source": [
    "## Content network analysis\n"
   ]
  },
  {
   "cell_type": "code",
   "execution_count": null,
   "metadata": {
    "collapsed": false
   },
   "outputs": [],
   "source": [
    "# there is something odd about some lines in contentnetwork.csv (e.g. \",0,,1\"). We need to remove them. \n",
    "\n",
    "inputfile = open(\"../data/contentnetwork.csv\", 'r')\n",
    "outputfile = open(\"../data/contentnetworkprocessed.csv\", 'w+')\n",
    "for l in inputfile:\n",
    "    if (not l.startswith(\",\")):\n",
    "#         print(l)\n",
    "        outputfile.write(l.upper())\n"
   ]
  },
  {
   "cell_type": "code",
   "execution_count": null,
   "metadata": {
    "collapsed": false
   },
   "outputs": [],
   "source": [
    "itpNetwork = createGraph(\"../data/contentnetwork.csv\")\n",
    "print(\"number of nodes: \",str(itpNetwork.number_of_nodes()))\n",
    "print(\"number of edges: \",str(itpNetwork.number_of_edges()))"
   ]
  },
  {
   "cell_type": "code",
   "execution_count": null,
   "metadata": {
    "collapsed": false
   },
   "outputs": [],
   "source": [
    "pitpNetwork = createGraph(\"../data/contentnetworkprocessed.csv\")\n",
    "print(\"number of nodes: \",str(pitpNetwork.number_of_nodes()))\n",
    "print(\"number of edges: \",str(pitpNetwork.number_of_edges()))"
   ]
  },
  {
   "cell_type": "code",
   "execution_count": null,
   "metadata": {
    "collapsed": false
   },
   "outputs": [],
   "source": [
    "drawGraph(pitpNetwork, 'content network')"
   ]
  },
  {
   "cell_type": "code",
   "execution_count": null,
   "metadata": {
    "collapsed": false
   },
   "outputs": [],
   "source": [
    "compute_z_score_for_assortativity(pitpNetwork, \"content network\")\n",
    "\n"
   ]
  },
  {
   "cell_type": "code",
   "execution_count": null,
   "metadata": {
    "collapsed": true
   },
   "outputs": [],
   "source": []
  },
  {
   "cell_type": "code",
   "execution_count": null,
   "metadata": {
    "collapsed": false
   },
   "outputs": [],
   "source": [
    "boxPlotDegreeDist(pitpNetwork)"
   ]
  },
  {
   "cell_type": "markdown",
   "metadata": {
    "collapsed": true
   },
   "source": [
    "## Within talk page in property namespace"
   ]
  },
  {
   "cell_type": "code",
   "execution_count": null,
   "metadata": {
    "collapsed": false
   },
   "outputs": [],
   "source": [
    "wtppropNetwork = createGraph(\"../data/wtpnetwork_propertynamespace.csv\")\n",
    "print(\"number of nodes: \",str(wtppropNetwork.number_of_nodes()))\n",
    "print(\"number of edges: \",str(wtppropNetwork.number_of_edges()))"
   ]
  },
  {
   "cell_type": "code",
   "execution_count": null,
   "metadata": {
    "collapsed": false
   },
   "outputs": [],
   "source": [
    "boxPlotDegreeDist(wtppropNetwork)"
   ]
  },
  {
   "cell_type": "code",
   "execution_count": null,
   "metadata": {
    "collapsed": false
   },
   "outputs": [],
   "source": [
    "drawGraph(wtppropNetwork, 'wtp network - property talk space')"
   ]
  },
  {
   "cell_type": "code",
   "execution_count": null,
   "metadata": {
    "collapsed": false
   },
   "outputs": [],
   "source": [
    "compute_z_score_for_assortativity(wtppropNetwork, \"wtp network property namespace\")\n",
    "\n"
   ]
  }
 ],
 "metadata": {
  "kernelspec": {
   "display_name": "Python 3",
   "language": "python",
   "name": "python3"
  },
  "language_info": {
   "codemirror_mode": {
    "name": "ipython",
    "version": 3
   },
   "file_extension": ".py",
   "mimetype": "text/x-python",
   "name": "python",
   "nbconvert_exporter": "python",
   "pygments_lexer": "ipython3",
   "version": "3.5.2"
  }
 },
 "nbformat": 4,
 "nbformat_minor": 0
}
