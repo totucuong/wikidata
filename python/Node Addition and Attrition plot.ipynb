{
 "cells": [
  {
   "cell_type": "markdown",
   "metadata": {},
   "source": [
    "In this notebook, we plot user addition/attrition diagram, as per \"Computation Methods For Dynamic Graphs\", Cortes et. al.\n",
    "\n",
    "Our data is a text file whose each line is of the following format:\n",
    "\n",
    ">user1;user2;date;{Q1;...;Q2;P1;...;P2};msg\n",
    "\n",
    "Here, fields, which are in the {}, are optional.\n",
    "\n",
    "For example:\n",
    "\n",
    ">Raoli;Torsolo;2012-10-30;Q1056;Ciao, tanto per capire come funziona ho preso una voce da Pedia e ho creato un elemento. Però su Wikidata si tratta semplicemente di inserire un elenco di link alle altre wikipedia. Di Wikiquote, source non c'è traccia. Per esempio in <b><a href=\"/wiki/Q1056\" title=\"Q1056\">Italo Balbo</a></b> ho aggiunto tutti i link e in 8 minuti ho fatto quello che potevo fare in 30 secondi. Ho dovuto copia-incollare tutti i link uno ad uno, apsettare che prendesse la lingua e aspettare che salvasse. Sai se c'è un modo per trasferirli in massa senza bot? Grazie <a href=\"/wiki/User:Raoli\" title=\"User:Raoli\">Raoli</a> (<a href=\"/wiki/User_talk:Raoli\" title=\"User talk:Raoli\">talk</a>) 21:33, 30 October 2012 (UTC)\n"
   ]
  },
  {
   "cell_type": "markdown",
   "metadata": {},
   "source": [
    "Functions to compute node addition."
   ]
  },
  {
   "cell_type": "code",
   "execution_count": 263,
   "metadata": {
    "collapsed": false
   },
   "outputs": [],
   "source": [
    "# pathToDataFile: path to the weekly communication in our dataset.\n",
    "# return a list of set of users each week\n",
    "def computeWeeklyUsers(pathToDataFile):\n",
    "    f = open(pathToDataFile, 'r')\n",
    "    users = []\n",
    "    for l in f:\n",
    "        items = l.split(\";\")\n",
    "        users.append(items[0])\n",
    "        users.append(items[1])\n",
    "    return set(users)  \n",
    "\n",
    "def computeListOfWeeklyUsers(filePrefix, numberOfWeeks):\n",
    "    result = []\n",
    "    for i in range(0,numberOfWeeks):\n",
    "        result.append(computeWeeklyUsers(filePrefix + str(i)))\n",
    "    return result\n",
    "   \n",
    "def computeListOfCummulativeWeeklyUsers(filePrefix, numberOfWeeks):\n",
    "    weeklySetofUsers = computeListOfWeeklyUsers(filePrefix, numberOfWeeks)\n",
    "    result = []\n",
    "    cumul = set()\n",
    "    for i in range(0, len(weeklySetofUsers)):\n",
    "        cumul = cumul.union(weeklySetofUsers[i])\n",
    "        result.append(cumul)\n",
    "    return result\n",
    "\n",
    "\n",
    "def computeNewUserSize(listOfCumulWeeklyUsers):\n",
    "    result = []\n",
    "    result.append(len(listOfCumulWeeklyUsers[0]))\n",
    "    for i in range(1, len(listOfCumulWeeklyUsers)):\n",
    "        result.append(len(listOfCumulWeeklyUsers[i]) - len(listOfCumulWeeklyUsers[i-1]))\n",
    "    return result\n",
    "    \n",
    "# compute cummulative percent of unique users\n",
    "# newUserSize: a list of number of unique users seen at each week\n",
    "def computeCumulativePercentNodeAddition(filePrefix, numberOfWeeks):\n",
    "    listOfCumulWeeklyUsers = computeListOfCummulativeWeeklyUsers(filePrefix, numberOfWeeks)\n",
    "    newUserSize = computeNewUserSize(listOfCumulWeeklyUsers);\n",
    "    cumulPercent = []\n",
    "    for i in range(0,len(newUserSize)):\n",
    "        cumulPercent.append(sum(newUserSize[0:i+1]))\n",
    "    totalUser = sum(newUserSize)\n",
    "    cumulPercent = [(x/totalUser)*100 for x in cumulPercent]\n",
    "    return cumulPercent\n",
    "        "
   ]
  },
  {
   "cell_type": "markdown",
   "metadata": {},
   "source": [
    "Function to compute node attrition. How do we compute node attrition?\n",
    "\n",
    "Node attrition = *The number of nodes that we see for the last time in week i*\n",
    "\n",
    "U(i) = set of users seen in week i.\n",
    "U(i+1,n) = set of users seen from week (i+1) till week n.\n",
    "nodeAttrition = |U(i) - U(i+1),n)|"
   ]
  },
  {
   "cell_type": "code",
   "execution_count": 264,
   "metadata": {
    "collapsed": false
   },
   "outputs": [],
   "source": [
    "def setOfUsersFrom(startWeek, weeklyUserSet):\n",
    "    if startWeek < 0 or startWeek > len(weeklyUserSet):\n",
    "        raise ValueError\n",
    "    result = set()\n",
    "    for i in range(startWeek, len(weeklyUserSet)):\n",
    "        result = result.union(weeklyUserSet[i])\n",
    "    return result\n",
    "\n",
    "def computeNodeAttritions(weeklyUserSet):\n",
    "    attritions = []\n",
    "    for i in range(0, len(weeklyUserSet)):\n",
    "        a = len(weeklyUserSet[i] - setOfUsersFrom(i+1, weeklyUserSet))\n",
    "        attritions.append(a)\n",
    "    return attritions\n",
    "\n",
    "def computeCumulativePercentNodeAttrition(nodeAttritions):\n",
    "    total = sum(nodeAttritions)\n",
    "    cumul = [sum(nodeAttritions[0:i]) for i in range(1,len(nodeAttritions)+1)]\n",
    "    percent = [x*100/total for x in cumul]\n",
    "    return percent\n",
    "\n",
    "\n",
    "\n"
   ]
  },
  {
   "cell_type": "code",
   "execution_count": 288,
   "metadata": {
    "collapsed": true
   },
   "outputs": [],
   "source": [
    "# cumulPercent: a list of cummulative percent of unique users seen at week i\n",
    "import matplotlib.pyplot as plt\n",
    "def plotAddAttr(additionPercent, attritionPercent):\n",
    "    plt.plot([w + 1 for w in range(0, len(additionPercent))],additionPercent)\n",
    "    plt.plot([w + 1 for w in range(0, len(attritionPercent))],attritionPercent)\n",
    "    plt.ylabel(\"Cummulative Percentage\")\n",
    "    plt.xlabel(\"Study Week Observed\")"
   ]
  },
  {
   "cell_type": "code",
   "execution_count": 289,
   "metadata": {
    "collapsed": false
   },
   "outputs": [
    {
     "data": {
      "image/png": "[encoded data removed]",
      "text/plain": [
       "<matplotlib.figure.Figure at 0x1102d8a20>"
      ]
     },
     "metadata": {},
     "output_type": "display_data"
    }
   ],
   "source": [
    "# node addition\n",
    "additionPercent = computeCumulativePercentNodeAddition(filePrefix=\"../data/wtp-networksv2//wtpnetwork_timestamp.csv_\", numberOfWeeks=233)\n",
    "\n",
    "# node attrition\n",
    "weeklyUserSet = computeListOfWeeklyUsers(filePrefix=\"../data/wtp-networksv2//wtpnetwork_timestamp.csv_\", numberOfWeeks=233)\n",
    "nodeAttrition = computeNodeAttritions(weeklyUserSet)\n",
    "attritionPercent = computeCumulativePercentNodeAttrition(nodeAttrition)\n",
    "\n",
    "# plot\n",
    "plotAddAttr(additionPercent,attritionPercent)\n",
    "plt.show()\n"
   ]
  },
  {
   "cell_type": "markdown",
   "metadata": {},
   "source": [
    "Does it means we are loosing people as fast as we getting people."
   ]
  },
  {
   "cell_type": "code",
   "execution_count": null,
   "metadata": {
    "collapsed": true
   },
   "outputs": [],
   "source": []
  }
 ],
 "metadata": {
  "kernelspec": {
   "display_name": "Python 3",
   "language": "python",
   "name": "python3"
  },
  "language_info": {
   "codemirror_mode": {
    "name": "ipython",
    "version": 3
   },
   "file_extension": ".py",
   "mimetype": "text/x-python",
   "name": "python",
   "nbconvert_exporter": "python",
   "pygments_lexer": "ipython3",
   "version": "3.5.2"
  }
 },
 "nbformat": 4,
 "nbformat_minor": 1
}
